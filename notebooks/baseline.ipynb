{
 "cells": [
  {
   "cell_type": "code",
   "execution_count": 1,
   "metadata": {
    "collapsed": true,
    "ExecuteTime": {
     "end_time": "2023-10-10T07:54:08.400270700Z",
     "start_time": "2023-10-10T07:54:05.316619300Z"
    }
   },
   "outputs": [],
   "source": [
    "%load_ext autoreload\n",
    "%autoreload 2\n",
    "import pandas as pd\n",
    "\n",
    "import sys\n",
    "sys.path.append('../../..')\n",
    "\n",
    "from raisontext import config\n",
    "from raisontext.dev.train.tf_idf_log_reg import TfIdfLogReg"
   ]
  },
  {
   "cell_type": "code",
   "execution_count": 2,
   "outputs": [],
   "source": [
    "DATA_DIR = config.REPO_ROOT / 'data'\n",
    "MODELS_DIR = config.REPO_ROOT / 'models'"
   ],
   "metadata": {
    "collapsed": false,
    "ExecuteTime": {
     "end_time": "2023-10-10T07:54:08.611111100Z",
     "start_time": "2023-10-10T07:54:08.403793600Z"
    }
   }
  },
  {
   "cell_type": "code",
   "execution_count": 3,
   "outputs": [],
   "source": [
    "train_df = pd.read_parquet(DATA_DIR / 'mgt_dataset_train.parquet')\n",
    "test_df = pd.read_parquet(DATA_DIR / 'mgt_dataset_test.parquet')"
   ],
   "metadata": {
    "collapsed": false,
    "ExecuteTime": {
     "end_time": "2023-10-10T07:54:16.494502500Z",
     "start_time": "2023-10-10T07:54:08.616109600Z"
    }
   }
  },
  {
   "cell_type": "code",
   "execution_count": 4,
   "outputs": [],
   "source": [
    "baseline_m = TfIdfLogReg('first silly baseline')\n",
    "baseline_m.fit(train_df)"
   ],
   "metadata": {
    "collapsed": false,
    "ExecuteTime": {
     "end_time": "2023-10-10T08:16:10.203550200Z",
     "start_time": "2023-10-10T07:54:18.997522300Z"
    }
   }
  },
  {
   "cell_type": "code",
   "execution_count": 5,
   "outputs": [
    {
     "data": {
      "text/plain": "array([0.98832123, 0.93207772, 0.96974376, 0.03982971, 0.02568768])"
     },
     "execution_count": 5,
     "metadata": {},
     "output_type": "execute_result"
    }
   ],
   "source": [
    "baseline_m.predict(test_df.head(5)['text'].to_list())"
   ],
   "metadata": {
    "collapsed": false,
    "ExecuteTime": {
     "end_time": "2023-10-10T08:16:10.462577600Z",
     "start_time": "2023-10-10T08:16:10.209553200Z"
    }
   }
  },
  {
   "cell_type": "code",
   "execution_count": 6,
   "outputs": [],
   "source": [
    "baseline_m.save(MODELS_DIR)"
   ],
   "metadata": {
    "collapsed": false,
    "ExecuteTime": {
     "end_time": "2023-10-10T08:16:36.252152200Z",
     "start_time": "2023-10-10T08:16:10.464577100Z"
    }
   }
  },
  {
   "cell_type": "code",
   "execution_count": 7,
   "outputs": [
    {
     "data": {
      "text/plain": "UUID('0c581279-c7e0-4317-9cb2-dbc0408d0b4f')"
     },
     "execution_count": 7,
     "metadata": {},
     "output_type": "execute_result"
    }
   ],
   "source": [
    "baseline_m.hash"
   ],
   "metadata": {
    "collapsed": false,
    "ExecuteTime": {
     "end_time": "2023-10-10T08:16:36.434398900Z",
     "start_time": "2023-10-10T08:16:36.257153Z"
    }
   }
  },
  {
   "cell_type": "code",
   "execution_count": 8,
   "outputs": [],
   "source": [
    "test_pred_probas = baseline_m.predict(test_df['text'].to_list())"
   ],
   "metadata": {
    "collapsed": false,
    "ExecuteTime": {
     "end_time": "2023-10-10T08:19:01.901692700Z",
     "start_time": "2023-10-10T08:16:36.438402Z"
    }
   }
  },
  {
   "cell_type": "code",
   "execution_count": 10,
   "outputs": [
    {
     "data": {
      "text/plain": "{'accuracy': 0.915393572924234,\n 'precision': 0.9145459923997057,\n 'recall': 0.9634580962730934,\n 'f1_score': 0.9383650931391815,\n 'roc_auc': 0.9672067434154987,\n 'prc_auc': 0.9821572535812166}"
     },
     "execution_count": 10,
     "metadata": {},
     "output_type": "execute_result"
    }
   ],
   "source": [
    "from raisontext.dev.evaluate.metrics import classification_evaluation\n",
    "\n",
    "classification_evaluation(test_pred_probas, test_df['is_generated'].to_list())"
   ],
   "metadata": {
    "collapsed": false,
    "ExecuteTime": {
     "end_time": "2023-10-10T08:19:37.536670900Z",
     "start_time": "2023-10-10T08:19:35.414832500Z"
    }
   }
  },
  {
   "cell_type": "code",
   "execution_count": null,
   "outputs": [],
   "source": [],
   "metadata": {
    "collapsed": false
   }
  }
 ],
 "metadata": {
  "kernelspec": {
   "display_name": "Python 3",
   "language": "python",
   "name": "python3"
  },
  "language_info": {
   "codemirror_mode": {
    "name": "ipython",
    "version": 2
   },
   "file_extension": ".py",
   "mimetype": "text/x-python",
   "name": "python",
   "nbconvert_exporter": "python",
   "pygments_lexer": "ipython2",
   "version": "2.7.6"
  }
 },
 "nbformat": 4,
 "nbformat_minor": 0
}
