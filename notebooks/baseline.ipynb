{
 "cells": [
  {
   "cell_type": "code",
   "execution_count": 1,
   "metadata": {
    "collapsed": true,
    "ExecuteTime": {
     "end_time": "2023-11-19T08:21:40.603680Z",
     "start_time": "2023-11-19T08:21:25.819830100Z"
    }
   },
   "outputs": [],
   "source": [
    "%load_ext autoreload\n",
    "%autoreload 2\n",
    "import pandas as pd\n",
    "\n",
    "import sys\n",
    "sys.path.append('../../..')\n",
    "\n",
    "from raisontext import config\n",
    "from raisontext.dev.train.tf_idf_log_reg import TfIdfLogReg"
   ]
  },
  {
   "cell_type": "code",
   "execution_count": 2,
   "outputs": [
    {
     "name": "stderr",
     "output_type": "stream",
     "text": [
      "\u001B[34m\u001B[1mwandb\u001B[0m: Currently logged in as: \u001B[33mgabd-ullinar\u001B[0m. Use \u001B[1m`wandb login --relogin`\u001B[0m to force relogin\n"
     ]
    },
    {
     "data": {
      "text/plain": "True"
     },
     "execution_count": 2,
     "metadata": {},
     "output_type": "execute_result"
    }
   ],
   "source": [
    "import wandb\n",
    "wandb.login()"
   ],
   "metadata": {
    "collapsed": false,
    "ExecuteTime": {
     "end_time": "2023-11-19T08:21:47.805345800Z",
     "start_time": "2023-11-19T08:21:40.605623200Z"
    }
   }
  },
  {
   "cell_type": "code",
   "execution_count": 3,
   "outputs": [],
   "source": [
    "DATA_DIR = config.REPO_ROOT.parent / 'data'\n",
    "MODELS_DIR = config.REPO_ROOT.parent / 'models'"
   ],
   "metadata": {
    "collapsed": false,
    "ExecuteTime": {
     "end_time": "2023-11-19T08:21:48.170873500Z",
     "start_time": "2023-11-19T08:21:47.760341500Z"
    }
   }
  },
  {
   "cell_type": "code",
   "execution_count": 4,
   "outputs": [],
   "source": [
    "train_df = pd.read_parquet(DATA_DIR / 'mgt_dataset_train.parquet')\n",
    "test_df = pd.read_parquet(DATA_DIR / 'mgt_dataset_test.parquet')"
   ],
   "metadata": {
    "collapsed": false,
    "ExecuteTime": {
     "end_time": "2023-11-19T08:22:00.335442600Z",
     "start_time": "2023-11-19T08:21:48.172856800Z"
    }
   }
  },
  {
   "cell_type": "code",
   "execution_count": 5,
   "outputs": [
    {
     "data": {
      "text/plain": "                                                     text  generator   \n248759  The Golden Fleece Award (1975–1988) was a Brit...       gpt4  \\\n454521  closes the video with a quick goodbye and the ...    various   \n2645    Sir Harold Beeley  (15 February 1909 – 27 July...       None   \n79682   Bikaner Technical University (BTU) is a techni...       None   \n905439  raises complications during pregnancy the indi...  pplm_gpt2   \n\n        is_generated              source  \n248759             1      GPT-wiki-intro  \n454521             1  DeepfakeTextDetect  \n2645               0      GPT-wiki-intro  \n79682              0      GPT-wiki-intro  \n905439             1         TuringBench  ",
      "text/html": "<div>\n<style scoped>\n    .dataframe tbody tr th:only-of-type {\n        vertical-align: middle;\n    }\n\n    .dataframe tbody tr th {\n        vertical-align: top;\n    }\n\n    .dataframe thead th {\n        text-align: right;\n    }\n</style>\n<table border=\"1\" class=\"dataframe\">\n  <thead>\n    <tr style=\"text-align: right;\">\n      <th></th>\n      <th>text</th>\n      <th>generator</th>\n      <th>is_generated</th>\n      <th>source</th>\n    </tr>\n  </thead>\n  <tbody>\n    <tr>\n      <th>248759</th>\n      <td>The Golden Fleece Award (1975–1988) was a Brit...</td>\n      <td>gpt4</td>\n      <td>1</td>\n      <td>GPT-wiki-intro</td>\n    </tr>\n    <tr>\n      <th>454521</th>\n      <td>closes the video with a quick goodbye and the ...</td>\n      <td>various</td>\n      <td>1</td>\n      <td>DeepfakeTextDetect</td>\n    </tr>\n    <tr>\n      <th>2645</th>\n      <td>Sir Harold Beeley  (15 February 1909 – 27 July...</td>\n      <td>None</td>\n      <td>0</td>\n      <td>GPT-wiki-intro</td>\n    </tr>\n    <tr>\n      <th>79682</th>\n      <td>Bikaner Technical University (BTU) is a techni...</td>\n      <td>None</td>\n      <td>0</td>\n      <td>GPT-wiki-intro</td>\n    </tr>\n    <tr>\n      <th>905439</th>\n      <td>raises complications during pregnancy the indi...</td>\n      <td>pplm_gpt2</td>\n      <td>1</td>\n      <td>TuringBench</td>\n    </tr>\n  </tbody>\n</table>\n</div>"
     },
     "execution_count": 5,
     "metadata": {},
     "output_type": "execute_result"
    }
   ],
   "source": [
    "train_df.head()"
   ],
   "metadata": {
    "collapsed": false,
    "ExecuteTime": {
     "end_time": "2023-11-19T08:22:00.947147Z",
     "start_time": "2023-11-19T08:22:00.348430500Z"
    }
   }
  },
  {
   "cell_type": "code",
   "execution_count": 6,
   "outputs": [
    {
     "data": {
      "text/plain": "<IPython.core.display.HTML object>",
      "text/html": "Tracking run with wandb version 0.16.0"
     },
     "metadata": {},
     "output_type": "display_data"
    },
    {
     "data": {
      "text/plain": "<IPython.core.display.HTML object>",
      "text/html": "Run data is saved locally in <code>C:\\Users\\rozla\\YandexDisk\\raisontext\\notebooks\\wandb\\run-20231119_142201-chdb3629</code>"
     },
     "metadata": {},
     "output_type": "display_data"
    },
    {
     "data": {
      "text/plain": "<IPython.core.display.HTML object>",
      "text/html": "Syncing run <strong><a href='https://wandb.ai/gabd-ullinar/raisontext/runs/chdb3629' target=\"_blank\">tough-voice-9</a></strong> to <a href='https://wandb.ai/gabd-ullinar/raisontext' target=\"_blank\">Weights & Biases</a> (<a href='https://wandb.me/run' target=\"_blank\">docs</a>)<br/>"
     },
     "metadata": {},
     "output_type": "display_data"
    },
    {
     "data": {
      "text/plain": "<IPython.core.display.HTML object>",
      "text/html": " View project at <a href='https://wandb.ai/gabd-ullinar/raisontext' target=\"_blank\">https://wandb.ai/gabd-ullinar/raisontext</a>"
     },
     "metadata": {},
     "output_type": "display_data"
    },
    {
     "data": {
      "text/plain": "<IPython.core.display.HTML object>",
      "text/html": " View run at <a href='https://wandb.ai/gabd-ullinar/raisontext/runs/chdb3629' target=\"_blank\">https://wandb.ai/gabd-ullinar/raisontext/runs/chdb3629</a>"
     },
     "metadata": {},
     "output_type": "display_data"
    },
    {
     "data": {
      "text/plain": "<IPython.core.display.HTML object>",
      "text/html": "<style>\n    table.wandb td:nth-child(1) { padding: 0 10px; text-align: left ; width: auto;} td:nth-child(2) {text-align: left ; width: 100%}\n    .wandb-row { display: flex; flex-direction: row; flex-wrap: wrap; justify-content: flex-start; width: 100% }\n    .wandb-col { display: flex; flex-direction: column; flex-basis: 100%; flex: 1; padding: 10px; }\n    </style>\n<div class=\"wandb-row\"><div class=\"wandb-col\"><h3>Run history:</h3><br/><table class=\"wandb\"><tr><td>train_size</td><td>▁</td></tr></table><br/></div><div class=\"wandb-col\"><h3>Run summary:</h3><br/><table class=\"wandb\"><tr><td>train_size</td><td>1000</td></tr></table><br/></div></div>"
     },
     "metadata": {},
     "output_type": "display_data"
    },
    {
     "data": {
      "text/plain": "<IPython.core.display.HTML object>",
      "text/html": " View run <strong style=\"color:#cdcd00\">tough-voice-9</strong> at: <a href='https://wandb.ai/gabd-ullinar/raisontext/runs/chdb3629' target=\"_blank\">https://wandb.ai/gabd-ullinar/raisontext/runs/chdb3629</a><br/> View job at <a href='https://wandb.ai/gabd-ullinar/raisontext/jobs/QXJ0aWZhY3RDb2xsZWN0aW9uOjExNjg5NzM0MQ==/version_details/v1' target=\"_blank\">https://wandb.ai/gabd-ullinar/raisontext/jobs/QXJ0aWZhY3RDb2xsZWN0aW9uOjExNjg5NzM0MQ==/version_details/v1</a><br/>Synced 4 W&B file(s), 0 media file(s), 0 artifact file(s) and 0 other file(s)"
     },
     "metadata": {},
     "output_type": "display_data"
    },
    {
     "data": {
      "text/plain": "<IPython.core.display.HTML object>",
      "text/html": "Find logs at: <code>.\\wandb\\run-20231119_142201-chdb3629\\logs</code>"
     },
     "metadata": {},
     "output_type": "display_data"
    }
   ],
   "source": [
    "baseline_m = TfIdfLogReg('first silly baseline')\n",
    "baseline_m.fit(train_df.sample(1000))"
   ],
   "metadata": {
    "collapsed": false,
    "ExecuteTime": {
     "end_time": "2023-11-19T08:22:11.937670100Z",
     "start_time": "2023-11-19T08:22:00.954147700Z"
    }
   }
  },
  {
   "cell_type": "code",
   "execution_count": 7,
   "outputs": [],
   "source": [
    "baseline_m.save(MODELS_DIR)"
   ],
   "metadata": {
    "collapsed": false,
    "ExecuteTime": {
     "end_time": "2023-11-19T08:22:12.365345500Z",
     "start_time": "2023-11-19T08:22:11.950723500Z"
    }
   }
  },
  {
   "cell_type": "code",
   "execution_count": 8,
   "outputs": [
    {
     "data": {
      "text/plain": "UUID('142b9688-7589-4f70-bf62-fcc27415dc73')"
     },
     "execution_count": 8,
     "metadata": {},
     "output_type": "execute_result"
    }
   ],
   "source": [
    "baseline_m.hash"
   ],
   "metadata": {
    "collapsed": false,
    "ExecuteTime": {
     "end_time": "2023-11-19T08:22:12.649865500Z",
     "start_time": "2023-11-19T08:22:12.369347600Z"
    }
   }
  },
  {
   "cell_type": "code",
   "execution_count": 9,
   "outputs": [
    {
     "data": {
      "text/plain": "<IPython.core.display.HTML object>",
      "text/html": "Tracking run with wandb version 0.16.0"
     },
     "metadata": {},
     "output_type": "display_data"
    },
    {
     "data": {
      "text/plain": "<IPython.core.display.HTML object>",
      "text/html": "Run data is saved locally in <code>C:\\Users\\rozla\\YandexDisk\\raisontext\\notebooks\\wandb\\run-20231119_142212-chdb3629</code>"
     },
     "metadata": {},
     "output_type": "display_data"
    },
    {
     "data": {
      "text/plain": "<IPython.core.display.HTML object>",
      "text/html": "Resuming run <strong><a href='https://wandb.ai/gabd-ullinar/raisontext/runs/chdb3629' target=\"_blank\">tough-voice-9</a></strong> to <a href='https://wandb.ai/gabd-ullinar/raisontext' target=\"_blank\">Weights & Biases</a> (<a href='https://wandb.me/run' target=\"_blank\">docs</a>)<br/>"
     },
     "metadata": {},
     "output_type": "display_data"
    },
    {
     "data": {
      "text/plain": "<IPython.core.display.HTML object>",
      "text/html": " View project at <a href='https://wandb.ai/gabd-ullinar/raisontext' target=\"_blank\">https://wandb.ai/gabd-ullinar/raisontext</a>"
     },
     "metadata": {},
     "output_type": "display_data"
    },
    {
     "data": {
      "text/plain": "<IPython.core.display.HTML object>",
      "text/html": " View run at <a href='https://wandb.ai/gabd-ullinar/raisontext/runs/chdb3629' target=\"_blank\">https://wandb.ai/gabd-ullinar/raisontext/runs/chdb3629</a>"
     },
     "metadata": {},
     "output_type": "display_data"
    },
    {
     "data": {
      "text/plain": "<IPython.core.display.HTML object>",
      "text/html": "<style>\n    table.wandb td:nth-child(1) { padding: 0 10px; text-align: left ; width: auto;} td:nth-child(2) {text-align: left ; width: 100%}\n    .wandb-row { display: flex; flex-direction: row; flex-wrap: wrap; justify-content: flex-start; width: 100% }\n    .wandb-col { display: flex; flex-direction: column; flex-basis: 100%; flex: 1; padding: 10px; }\n    </style>\n<div class=\"wandb-row\"><div class=\"wandb-col\"><h3>Run history:</h3><br/><table class=\"wandb\"><tr><td>accuracy</td><td>▁</td></tr><tr><td>f1_score</td><td>▁</td></tr><tr><td>prc_auc</td><td>▁</td></tr><tr><td>precision</td><td>▁</td></tr><tr><td>recall</td><td>▁</td></tr><tr><td>roc_auc</td><td>▁</td></tr><tr><td>test_size</td><td>▁</td></tr></table><br/></div><div class=\"wandb-col\"><h3>Run summary:</h3><br/><table class=\"wandb\"><tr><td>accuracy</td><td>0.78</td></tr><tr><td>f1_score</td><td>0.85333</td></tr><tr><td>prc_auc</td><td>0.87672</td></tr><tr><td>precision</td><td>0.77108</td></tr><tr><td>recall</td><td>0.95522</td></tr><tr><td>roc_auc</td><td>0.79059</td></tr><tr><td>test_size</td><td>100</td></tr><tr><td>train_size</td><td>1000</td></tr></table><br/></div></div>"
     },
     "metadata": {},
     "output_type": "display_data"
    },
    {
     "data": {
      "text/plain": "<IPython.core.display.HTML object>",
      "text/html": " View run <strong style=\"color:#cdcd00\">tough-voice-9</strong> at: <a href='https://wandb.ai/gabd-ullinar/raisontext/runs/chdb3629' target=\"_blank\">https://wandb.ai/gabd-ullinar/raisontext/runs/chdb3629</a><br/>Synced 2 W&B file(s), 0 media file(s), 0 artifact file(s) and 0 other file(s)"
     },
     "metadata": {},
     "output_type": "display_data"
    },
    {
     "data": {
      "text/plain": "<IPython.core.display.HTML object>",
      "text/html": "Find logs at: <code>.\\wandb\\run-20231119_142212-chdb3629\\logs</code>"
     },
     "metadata": {},
     "output_type": "display_data"
    },
    {
     "data": {
      "text/plain": "(array([0.85348287, 0.71428571, 0.82786726, 0.45883535, 0.45367669,\n        0.49160968, 0.77003962, 0.56669518, 0.58713232, 0.72440005,\n        0.79949733, 0.82609613, 0.72125629, 0.68962056, 0.74878323,\n        0.77734603, 0.79118153, 0.62500412, 0.42404707, 0.6999744 ,\n        0.81254005, 0.80114856, 0.78057907, 0.76506772, 0.68460266,\n        0.71068029, 0.45957741, 0.85949449, 0.82718536, 0.78141208,\n        0.62653398, 0.86380028, 0.68916764, 0.88869335, 0.83787297,\n        0.7356423 , 0.60180546, 0.65670337, 0.63537995, 0.46173974,\n        0.8596757 , 0.55822996, 0.38985251, 0.56636026, 0.67925001,\n        0.50424783, 0.56823111, 0.43663566, 0.86871396, 0.72444094,\n        0.73597315, 0.7022173 , 0.71964542, 0.64725944, 0.28809114,\n        0.77698445, 0.61929032, 0.39750776, 0.8368514 , 0.59186624,\n        0.7216632 , 0.80949035, 0.43296188, 0.82899731, 0.44247573,\n        0.39858902, 0.82821165, 0.81863947, 0.58577973, 0.64669931,\n        0.58528124, 0.54479922, 0.6301225 , 0.61078372, 0.7513262 ,\n        0.65453678, 0.77808915, 0.631128  , 0.5954158 , 0.84803124,\n        0.45836443, 0.70672922, 0.74378618, 0.70543268, 0.84817067,\n        0.7915576 , 0.73044344, 0.7133424 , 0.81113821, 0.52368297,\n        0.84127207, 0.52496324, 0.40832596, 0.32842034, 0.78997083,\n        0.85562435, 0.66294814, 0.58168078, 0.77580913, 0.49459692]),\n {'accuracy': 0.78,\n  'precision': 0.7710843373493976,\n  'recall': 0.9552238805970149,\n  'f1_score': 0.8533333333333334,\n  'roc_auc': 0.7905924920850294,\n  'prc_auc': 0.8767225576792199,\n  'test_size': 100})"
     },
     "execution_count": 9,
     "metadata": {},
     "output_type": "execute_result"
    }
   ],
   "source": [
    "baseline_m.evaluate(test_df.head(100)['text'].to_list(), test_df.head(100)['is_generated'].to_list())"
   ],
   "metadata": {
    "collapsed": false,
    "ExecuteTime": {
     "end_time": "2023-11-19T08:22:19.702983300Z",
     "start_time": "2023-11-19T08:22:12.651843200Z"
    }
   }
  },
  {
   "cell_type": "code",
   "execution_count": 9,
   "outputs": [],
   "source": [],
   "metadata": {
    "collapsed": false,
    "ExecuteTime": {
     "end_time": "2023-11-19T08:22:19.717042900Z",
     "start_time": "2023-11-19T08:22:19.703989400Z"
    }
   }
  }
 ],
 "metadata": {
  "kernelspec": {
   "display_name": "Python 3",
   "language": "python",
   "name": "python3"
  },
  "language_info": {
   "codemirror_mode": {
    "name": "ipython",
    "version": 2
   },
   "file_extension": ".py",
   "mimetype": "text/x-python",
   "name": "python",
   "nbconvert_exporter": "python",
   "pygments_lexer": "ipython2",
   "version": "2.7.6"
  }
 },
 "nbformat": 4,
 "nbformat_minor": 0
}
