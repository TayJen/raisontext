{
 "cells": [
  {
   "cell_type": "code",
   "execution_count": 2,
   "metadata": {},
   "outputs": [],
   "source": [
    "# this notebook is used to process some public datasets and prepare for further usage\n",
    "\n",
    "import os\n",
    "from enum import Enum\n",
    "\n",
    "import pandas as pd\n",
    "import seaborn as sns\n",
    "import matplotlib.pyplot as plt\n",
    "from nltk.tokenize import word_tokenize"
   ]
  },
  {
   "cell_type": "markdown",
   "metadata": {},
   "source": [
    "# Read datasets"
   ]
  },
  {
   "cell_type": "markdown",
   "metadata": {},
   "source": [
    "### GPT-wiki-intro\n",
    "\n",
    "https://huggingface.co/datasets/aadityaubhat/GPT-wiki-intro\n",
    "\n",
    "Dataset for training models to classify human written vs GPT/ChatGPT generated text. This dataset contains Wikipedia introductions and GPT (Curie) generated introductions for 150k topics."
   ]
  },
  {
   "cell_type": "code",
   "execution_count": 3,
   "metadata": {},
   "outputs": [],
   "source": [
    "df_wiki = pd.read_csv('GPT-wiki-intro.csv')"
   ]
  },
  {
   "cell_type": "code",
   "execution_count": 4,
   "metadata": {},
   "outputs": [
    {
     "data": {
      "text/html": [
       "<div>\n",
       "<style scoped>\n",
       "    .dataframe tbody tr th:only-of-type {\n",
       "        vertical-align: middle;\n",
       "    }\n",
       "\n",
       "    .dataframe tbody tr th {\n",
       "        vertical-align: top;\n",
       "    }\n",
       "\n",
       "    .dataframe thead th {\n",
       "        text-align: right;\n",
       "    }\n",
       "</style>\n",
       "<table border=\"1\" class=\"dataframe\">\n",
       "  <thead>\n",
       "    <tr style=\"text-align: right;\">\n",
       "      <th></th>\n",
       "      <th>id</th>\n",
       "      <th>url</th>\n",
       "      <th>title</th>\n",
       "      <th>wiki_intro</th>\n",
       "      <th>generated_intro</th>\n",
       "      <th>title_len</th>\n",
       "      <th>wiki_intro_len</th>\n",
       "      <th>generated_intro_len</th>\n",
       "      <th>prompt</th>\n",
       "      <th>generated_text</th>\n",
       "      <th>prompt_tokens</th>\n",
       "      <th>generated_text_tokens</th>\n",
       "    </tr>\n",
       "  </thead>\n",
       "  <tbody>\n",
       "    <tr>\n",
       "      <th>0</th>\n",
       "      <td>63064638</td>\n",
       "      <td>https://en.wikipedia.org/wiki/Sexhow%20railway...</td>\n",
       "      <td>Sexhow railway station</td>\n",
       "      <td>Sexhow railway station was a railway station b...</td>\n",
       "      <td>Sexhow railway station was a railway station l...</td>\n",
       "      <td>3</td>\n",
       "      <td>174</td>\n",
       "      <td>78</td>\n",
       "      <td>200 word wikipedia style introduction on 'Sexh...</td>\n",
       "      <td>located in the town of Sexhow, on the Cumbria...</td>\n",
       "      <td>25</td>\n",
       "      <td>88</td>\n",
       "    </tr>\n",
       "    <tr>\n",
       "      <th>1</th>\n",
       "      <td>279621</td>\n",
       "      <td>https://en.wikipedia.org/wiki/Eti%C3%A4inen</td>\n",
       "      <td>Etiäinen</td>\n",
       "      <td>In Finnish folklore, all places and things, an...</td>\n",
       "      <td>In Finnish folklore, all places and things, an...</td>\n",
       "      <td>1</td>\n",
       "      <td>187</td>\n",
       "      <td>80</td>\n",
       "      <td>200 word wikipedia style introduction on 'Etiä...</td>\n",
       "      <td>animate or inanimate, have a spirit or \"etiäi...</td>\n",
       "      <td>26</td>\n",
       "      <td>101</td>\n",
       "    </tr>\n",
       "    <tr>\n",
       "      <th>2</th>\n",
       "      <td>287229</td>\n",
       "      <td>https://en.wikipedia.org/wiki/Inverse%20functi...</td>\n",
       "      <td>Inverse function theorem</td>\n",
       "      <td>In mathematics, specifically differential calc...</td>\n",
       "      <td>In mathematics, specifically differential calc...</td>\n",
       "      <td>3</td>\n",
       "      <td>170</td>\n",
       "      <td>59</td>\n",
       "      <td>200 word wikipedia style introduction on 'Inve...</td>\n",
       "      <td>function theorem states that for every real-v...</td>\n",
       "      <td>26</td>\n",
       "      <td>65</td>\n",
       "    </tr>\n",
       "    <tr>\n",
       "      <th>3</th>\n",
       "      <td>26712375</td>\n",
       "      <td>https://en.wikipedia.org/wiki/Stepping%20on%20...</td>\n",
       "      <td>Stepping on Roses</td>\n",
       "      <td>is a Japanese shōjo manga series written and i...</td>\n",
       "      <td>is a Japanese shōjo manga series written and i...</td>\n",
       "      <td>3</td>\n",
       "      <td>335</td>\n",
       "      <td>121</td>\n",
       "      <td>200 word wikipedia style introduction on 'Step...</td>\n",
       "      <td>and illustrated by Maki Fujii. The series fol...</td>\n",
       "      <td>26</td>\n",
       "      <td>150</td>\n",
       "    </tr>\n",
       "    <tr>\n",
       "      <th>4</th>\n",
       "      <td>38894426</td>\n",
       "      <td>https://en.wikipedia.org/wiki/Rob%20Bradley</td>\n",
       "      <td>Rob Bradley</td>\n",
       "      <td>Robert Milner \"Rob\" Bradley, Jr. (born August ...</td>\n",
       "      <td>Robert Milner \"Rob\" Bradley, Jr. (born August ...</td>\n",
       "      <td>2</td>\n",
       "      <td>170</td>\n",
       "      <td>136</td>\n",
       "      <td>200 word wikipedia style introduction on 'Rob ...</td>\n",
       "      <td>29, 1973) is an American former professional ...</td>\n",
       "      <td>28</td>\n",
       "      <td>162</td>\n",
       "    </tr>\n",
       "  </tbody>\n",
       "</table>\n",
       "</div>"
      ],
      "text/plain": [
       "         id                                                url  \\\n",
       "0  63064638  https://en.wikipedia.org/wiki/Sexhow%20railway...   \n",
       "1    279621        https://en.wikipedia.org/wiki/Eti%C3%A4inen   \n",
       "2    287229  https://en.wikipedia.org/wiki/Inverse%20functi...   \n",
       "3  26712375  https://en.wikipedia.org/wiki/Stepping%20on%20...   \n",
       "4  38894426        https://en.wikipedia.org/wiki/Rob%20Bradley   \n",
       "\n",
       "                      title  \\\n",
       "0    Sexhow railway station   \n",
       "1                  Etiäinen   \n",
       "2  Inverse function theorem   \n",
       "3         Stepping on Roses   \n",
       "4               Rob Bradley   \n",
       "\n",
       "                                          wiki_intro  \\\n",
       "0  Sexhow railway station was a railway station b...   \n",
       "1  In Finnish folklore, all places and things, an...   \n",
       "2  In mathematics, specifically differential calc...   \n",
       "3  is a Japanese shōjo manga series written and i...   \n",
       "4  Robert Milner \"Rob\" Bradley, Jr. (born August ...   \n",
       "\n",
       "                                     generated_intro  title_len  \\\n",
       "0  Sexhow railway station was a railway station l...          3   \n",
       "1  In Finnish folklore, all places and things, an...          1   \n",
       "2  In mathematics, specifically differential calc...          3   \n",
       "3  is a Japanese shōjo manga series written and i...          3   \n",
       "4  Robert Milner \"Rob\" Bradley, Jr. (born August ...          2   \n",
       "\n",
       "   wiki_intro_len  generated_intro_len  \\\n",
       "0             174                   78   \n",
       "1             187                   80   \n",
       "2             170                   59   \n",
       "3             335                  121   \n",
       "4             170                  136   \n",
       "\n",
       "                                              prompt  \\\n",
       "0  200 word wikipedia style introduction on 'Sexh...   \n",
       "1  200 word wikipedia style introduction on 'Etiä...   \n",
       "2  200 word wikipedia style introduction on 'Inve...   \n",
       "3  200 word wikipedia style introduction on 'Step...   \n",
       "4  200 word wikipedia style introduction on 'Rob ...   \n",
       "\n",
       "                                      generated_text  prompt_tokens  \\\n",
       "0   located in the town of Sexhow, on the Cumbria...             25   \n",
       "1   animate or inanimate, have a spirit or \"etiäi...             26   \n",
       "2   function theorem states that for every real-v...             26   \n",
       "3   and illustrated by Maki Fujii. The series fol...             26   \n",
       "4   29, 1973) is an American former professional ...             28   \n",
       "\n",
       "   generated_text_tokens  \n",
       "0                     88  \n",
       "1                    101  \n",
       "2                     65  \n",
       "3                    150  \n",
       "4                    162  "
      ]
     },
     "execution_count": 4,
     "metadata": {},
     "output_type": "execute_result"
    }
   ],
   "source": [
    "df_wiki.head()"
   ]
  },
  {
   "cell_type": "code",
   "execution_count": 5,
   "metadata": {},
   "outputs": [
    {
     "data": {
      "text/plain": [
       "(150000, 12)"
      ]
     },
     "execution_count": 5,
     "metadata": {},
     "output_type": "execute_result"
    }
   ],
   "source": [
    "df_wiki.shape"
   ]
  },
  {
   "cell_type": "markdown",
   "metadata": {},
   "source": [
    "### DeepfakeTextDetect\n",
    "\n",
    "https://github.com/yafuly/DeepfakeTextDetect\n",
    "\n",
    "The dataset consists of 447,674 human-written and machine-generated texts from a wide range of sources in the wild:\n",
    "\n",
    "Human-written texts from 10 datasets covering a wide range of writing tasks, e.g., news article writing, story generation, scientific writing, etc.\n",
    "Machine-generated texts generated by 27 mainstream LLMs from 7 sources, e.g., OpenAI, LLaMA, and EleutherAI, etc.\n",
    "6 systematic testbeds with increasing wildness and detection difficulty.\n",
    "2 wilder test sets: (1) texts collected from new datasets and generated by GPT-4; (2) paraphrased texts."
   ]
  },
  {
   "cell_type": "code",
   "execution_count": 6,
   "metadata": {},
   "outputs": [],
   "source": [
    "df_deepfake = pd.concat([\n",
    "    pd.read_csv('deepfakedetect/train.csv'),\n",
    "    pd.read_csv('deepfakedetect/valid.csv'),\n",
    "    pd.read_csv('deepfakedetect/test.csv'),\n",
    "], ignore_index=True)"
   ]
  },
  {
   "cell_type": "code",
   "execution_count": 7,
   "metadata": {},
   "outputs": [
    {
     "data": {
      "text/html": [
       "<div>\n",
       "<style scoped>\n",
       "    .dataframe tbody tr th:only-of-type {\n",
       "        vertical-align: middle;\n",
       "    }\n",
       "\n",
       "    .dataframe tbody tr th {\n",
       "        vertical-align: top;\n",
       "    }\n",
       "\n",
       "    .dataframe thead th {\n",
       "        text-align: right;\n",
       "    }\n",
       "</style>\n",
       "<table border=\"1\" class=\"dataframe\">\n",
       "  <thead>\n",
       "    <tr style=\"text-align: right;\">\n",
       "      <th></th>\n",
       "      <th>text</th>\n",
       "      <th>label</th>\n",
       "      <th>src</th>\n",
       "    </tr>\n",
       "  </thead>\n",
       "  <tbody>\n",
       "    <tr>\n",
       "      <th>0</th>\n",
       "      <td>White girls very rarely date Asian men. Even i...</td>\n",
       "      <td>1</td>\n",
       "      <td>cmv_human</td>\n",
       "    </tr>\n",
       "    <tr>\n",
       "      <th>1</th>\n",
       "      <td>I am a 23 year old male Indian American male. ...</td>\n",
       "      <td>1</td>\n",
       "      <td>cmv_human</td>\n",
       "    </tr>\n",
       "    <tr>\n",
       "      <th>2</th>\n",
       "      <td>Take three people, Persons A, B, and C. They l...</td>\n",
       "      <td>1</td>\n",
       "      <td>cmv_human</td>\n",
       "    </tr>\n",
       "    <tr>\n",
       "      <th>3</th>\n",
       "      <td>(A) Work part-time in high school; Then go to ...</td>\n",
       "      <td>1</td>\n",
       "      <td>cmv_human</td>\n",
       "    </tr>\n",
       "    <tr>\n",
       "      <th>4</th>\n",
       "      <td>When police introduce a new form of speed prev...</td>\n",
       "      <td>1</td>\n",
       "      <td>cmv_human</td>\n",
       "    </tr>\n",
       "  </tbody>\n",
       "</table>\n",
       "</div>"
      ],
      "text/plain": [
       "                                                text  label        src\n",
       "0  White girls very rarely date Asian men. Even i...      1  cmv_human\n",
       "1  I am a 23 year old male Indian American male. ...      1  cmv_human\n",
       "2  Take three people, Persons A, B, and C. They l...      1  cmv_human\n",
       "3  (A) Work part-time in high school; Then go to ...      1  cmv_human\n",
       "4  When police introduce a new form of speed prev...      1  cmv_human"
      ]
     },
     "execution_count": 7,
     "metadata": {},
     "output_type": "execute_result"
    }
   ],
   "source": [
    "df_deepfake.head()"
   ]
  },
  {
   "cell_type": "code",
   "execution_count": 8,
   "metadata": {},
   "outputs": [
    {
     "data": {
      "text/plain": [
       "0    281824\n",
       "1    150858\n",
       "Name: label, dtype: int64"
      ]
     },
     "execution_count": 8,
     "metadata": {},
     "output_type": "execute_result"
    }
   ],
   "source": [
    "df_deepfake['label'].value_counts()"
   ]
  },
  {
   "cell_type": "markdown",
   "metadata": {},
   "source": [
    "### TuringBench\n",
    "\n",
    "https://huggingface.co/datasets/turingbench/TuringBench/tree/main\n",
    "\n",
    "168,612 articles from 19 machine text-generators and 1 human"
   ]
  },
  {
   "cell_type": "code",
   "execution_count": 9,
   "metadata": {},
   "outputs": [],
   "source": [
    "temp = []\n",
    "for folder in os.listdir('./TuringBench'):\n",
    "    for fname in ['test.csv', 'train.csv', 'valid.csv']:\n",
    "        temp.append(pd.read_csv(f'TuringBench/{folder}/{fname}'))\n",
    "\n",
    "df_turing = pd.concat(temp, ignore_index=True)"
   ]
  },
  {
   "cell_type": "code",
   "execution_count": 10,
   "metadata": {},
   "outputs": [
    {
     "data": {
      "text/html": [
       "<div>\n",
       "<style scoped>\n",
       "    .dataframe tbody tr th:only-of-type {\n",
       "        vertical-align: middle;\n",
       "    }\n",
       "\n",
       "    .dataframe tbody tr th {\n",
       "        vertical-align: top;\n",
       "    }\n",
       "\n",
       "    .dataframe thead th {\n",
       "        text-align: right;\n",
       "    }\n",
       "</style>\n",
       "<table border=\"1\" class=\"dataframe\">\n",
       "  <thead>\n",
       "    <tr style=\"text-align: right;\">\n",
       "      <th></th>\n",
       "      <th>Generation</th>\n",
       "      <th>label</th>\n",
       "    </tr>\n",
       "  </thead>\n",
       "  <tbody>\n",
       "    <tr>\n",
       "      <th>0</th>\n",
       "      <td>the scheme seeks to generate regular income th...</td>\n",
       "      <td>human</td>\n",
       "    </tr>\n",
       "    <tr>\n",
       "      <th>1</th>\n",
       "      <td>stated asset allocation . assets . min ( % ) m...</td>\n",
       "      <td>human</td>\n",
       "    </tr>\n",
       "    <tr>\n",
       "      <th>2</th>\n",
       "      <td>' fbi agent , the associated press reported mo...</td>\n",
       "      <td>gpt2_pytorch</td>\n",
       "    </tr>\n",
       "    <tr>\n",
       "      <th>3</th>\n",
       "      <td>' calls for an end to corruption in the countr...</td>\n",
       "      <td>gpt2_pytorch</td>\n",
       "    </tr>\n",
       "    <tr>\n",
       "      <th>4</th>\n",
       "      <td>burkini ? a wetsuit but there 's 'burk ' in it...</td>\n",
       "      <td>human</td>\n",
       "    </tr>\n",
       "  </tbody>\n",
       "</table>\n",
       "</div>"
      ],
      "text/plain": [
       "                                          Generation         label\n",
       "0  the scheme seeks to generate regular income th...         human\n",
       "1  stated asset allocation . assets . min ( % ) m...         human\n",
       "2  ' fbi agent , the associated press reported mo...  gpt2_pytorch\n",
       "3  ' calls for an end to corruption in the countr...  gpt2_pytorch\n",
       "4  burkini ? a wetsuit but there 's 'burk ' in it...         human"
      ]
     },
     "execution_count": 10,
     "metadata": {},
     "output_type": "execute_result"
    }
   ],
   "source": [
    "df_turing.head()"
   ]
  },
  {
   "cell_type": "code",
   "execution_count": 11,
   "metadata": {},
   "outputs": [
    {
     "data": {
      "text/plain": [
       "grover_base     10769\n",
       "gpt2_pytorch    10769\n",
       "xlm             10767\n",
       "xlnet_base      10764\n",
       "gpt2_xl         10223\n",
       "fair_wmt20      10223\n",
       "gpt1            10223\n",
       "transfo_xl      10220\n",
       "pplm_distil     10120\n",
       "pplm_gpt2       10120\n",
       "xlnet_large     10116\n",
       "ctrl            10094\n",
       "grover_mega      9927\n",
       "gpt2_large       9927\n",
       "fair_wmt19       9927\n",
       "gpt2_medium      9927\n",
       "gpt3             9927\n",
       "grover_large     9927\n",
       "gpt2_small       9926\n",
       "human            9458\n",
       "Name: label, dtype: int64"
      ]
     },
     "execution_count": 11,
     "metadata": {},
     "output_type": "execute_result"
    }
   ],
   "source": [
    "df_turing.drop_duplicates(inplace=True)\n",
    "df_turing['label'].value_counts()"
   ]
  },
  {
   "cell_type": "markdown",
   "metadata": {},
   "source": [
    "# Combine data"
   ]
  },
  {
   "cell_type": "code",
   "execution_count": 12,
   "metadata": {},
   "outputs": [],
   "source": [
    "class DataSource(str, Enum):\n",
    "    \"\"\"Enum with source datasets used.\"\"\"\n",
    "\n",
    "    deepfake = \"DeepfakeTextDetect\"\n",
    "    turing = \"TuringBench\"\n",
    "    wiki = \"GPT-wiki-intro\""
   ]
  },
  {
   "cell_type": "code",
   "execution_count": 13,
   "metadata": {},
   "outputs": [
    {
     "data": {
      "text/plain": [
       "\"Sexhow railway station was a railway station built to serve the hamlet of Sexhow in North Yorkshire, England. The station was on the North Yorkshire and Cleveland's railway line between  and , which opened in 1857. The line was extended progressively until it met the Whitby & Pickering Railway at . Sexhow station was closed in 1954 to passengers and four years later to goods. The station was located  south of Stockton, and  west of Battersby railway station. History\\nThe station was opened in April 1857, when the line from Picton was opened up as far as . Mapping shows the station to have had three sidings in the goods yard, coal drops and a crane. The main station buildings were on the westbound (Picton direction) side of the station. The station was south of the village that it served, and was actually in the parish of Carlton in Cleveland, which has led to speculation that it was named Sexhow to avoid confusion with  railway station, which was originally named Carlton.\""
      ]
     },
     "execution_count": 13,
     "metadata": {},
     "output_type": "execute_result"
    }
   ],
   "source": [
    "df_wiki.loc[0]['wiki_intro']"
   ]
  },
  {
   "cell_type": "code",
   "execution_count": 14,
   "metadata": {},
   "outputs": [
    {
     "data": {
      "text/plain": [
       "' located in the town of Sexhow, on the Cumbrian Coast Line in North West England. The station was opened by the Lancashire and Yorkshire Railway on 7 October 1870. It was closed to passengers on 5 January 1950, and to goods on 12 May 1965. \\n\\nThe station building is now a private residence. There is a small amount of trackage remaining near the building, used currently by a local agricultural business.'"
      ]
     },
     "execution_count": 14,
     "metadata": {},
     "output_type": "execute_result"
    }
   ],
   "source": [
    "df_wiki.loc[0]['generated_text']"
   ]
  },
  {
   "cell_type": "code",
   "execution_count": 15,
   "metadata": {},
   "outputs": [
    {
     "data": {
      "text/plain": [
       "'Sexhow railway station was a railway station located in the town of Sexhow, on the Cumbrian Coast Line in North West England. The station was opened by the Lancashire and Yorkshire Railway on 7 October 1870. It was closed to passengers on 5 January 1950, and to goods on 12 May 1965. \\n\\nThe station building is now a private residence. There is a small amount of trackage remaining near the building, used currently by a local agricultural business.'"
      ]
     },
     "execution_count": 15,
     "metadata": {},
     "output_type": "execute_result"
    }
   ],
   "source": [
    "df_wiki.loc[0]['generated_intro']"
   ]
  },
  {
   "cell_type": "code",
   "execution_count": 16,
   "metadata": {},
   "outputs": [
    {
     "data": {
      "text/html": [
       "<div>\n",
       "<style scoped>\n",
       "    .dataframe tbody tr th:only-of-type {\n",
       "        vertical-align: middle;\n",
       "    }\n",
       "\n",
       "    .dataframe tbody tr th {\n",
       "        vertical-align: top;\n",
       "    }\n",
       "\n",
       "    .dataframe thead th {\n",
       "        text-align: right;\n",
       "    }\n",
       "</style>\n",
       "<table border=\"1\" class=\"dataframe\">\n",
       "  <thead>\n",
       "    <tr style=\"text-align: right;\">\n",
       "      <th></th>\n",
       "      <th>id</th>\n",
       "      <th>url</th>\n",
       "      <th>title</th>\n",
       "      <th>wiki_intro</th>\n",
       "      <th>generated_intro</th>\n",
       "      <th>title_len</th>\n",
       "      <th>wiki_intro_len</th>\n",
       "      <th>generated_intro_len</th>\n",
       "      <th>prompt</th>\n",
       "      <th>generated_text</th>\n",
       "      <th>prompt_tokens</th>\n",
       "      <th>generated_text_tokens</th>\n",
       "    </tr>\n",
       "  </thead>\n",
       "  <tbody>\n",
       "  </tbody>\n",
       "</table>\n",
       "</div>"
      ],
      "text/plain": [
       "Empty DataFrame\n",
       "Columns: [id, url, title, wiki_intro, generated_intro, title_len, wiki_intro_len, generated_intro_len, prompt, generated_text, prompt_tokens, generated_text_tokens]\n",
       "Index: []"
      ]
     },
     "execution_count": 16,
     "metadata": {},
     "output_type": "execute_result"
    }
   ],
   "source": [
    "df_wiki[df_wiki.apply(lambda x: x['generated_text'] not in x['generated_intro'], axis=1)]"
   ]
  },
  {
   "cell_type": "code",
   "execution_count": 17,
   "metadata": {},
   "outputs": [],
   "source": [
    "human = df_wiki[['wiki_intro']].rename(columns={'wiki_intro': 'text'})\n",
    "human['generator'] = None\n",
    "human['is_generated'] = 0\n",
    "machine = df_wiki[['generated_intro']].rename(columns={'generated_intro': 'text'})\n",
    "machine['generator'] = 'gpt4'\n",
    "machine['is_generated'] = 1\n",
    "df_wiki = pd.concat([human, machine], ignore_index=True)\n",
    "df_wiki['source'] = DataSource.wiki.value"
   ]
  },
  {
   "cell_type": "code",
   "execution_count": 18,
   "metadata": {},
   "outputs": [
    {
     "data": {
      "text/html": [
       "<div>\n",
       "<style scoped>\n",
       "    .dataframe tbody tr th:only-of-type {\n",
       "        vertical-align: middle;\n",
       "    }\n",
       "\n",
       "    .dataframe tbody tr th {\n",
       "        vertical-align: top;\n",
       "    }\n",
       "\n",
       "    .dataframe thead th {\n",
       "        text-align: right;\n",
       "    }\n",
       "</style>\n",
       "<table border=\"1\" class=\"dataframe\">\n",
       "  <thead>\n",
       "    <tr style=\"text-align: right;\">\n",
       "      <th></th>\n",
       "      <th>text</th>\n",
       "      <th>generator</th>\n",
       "      <th>is_generated</th>\n",
       "      <th>source</th>\n",
       "    </tr>\n",
       "  </thead>\n",
       "  <tbody>\n",
       "    <tr>\n",
       "      <th>0</th>\n",
       "      <td>Sexhow railway station was a railway station b...</td>\n",
       "      <td>None</td>\n",
       "      <td>0</td>\n",
       "      <td>GPT-wiki-intro</td>\n",
       "    </tr>\n",
       "    <tr>\n",
       "      <th>1</th>\n",
       "      <td>In Finnish folklore, all places and things, an...</td>\n",
       "      <td>None</td>\n",
       "      <td>0</td>\n",
       "      <td>GPT-wiki-intro</td>\n",
       "    </tr>\n",
       "    <tr>\n",
       "      <th>2</th>\n",
       "      <td>In mathematics, specifically differential calc...</td>\n",
       "      <td>None</td>\n",
       "      <td>0</td>\n",
       "      <td>GPT-wiki-intro</td>\n",
       "    </tr>\n",
       "    <tr>\n",
       "      <th>3</th>\n",
       "      <td>is a Japanese shōjo manga series written and i...</td>\n",
       "      <td>None</td>\n",
       "      <td>0</td>\n",
       "      <td>GPT-wiki-intro</td>\n",
       "    </tr>\n",
       "    <tr>\n",
       "      <th>4</th>\n",
       "      <td>Robert Milner \"Rob\" Bradley, Jr. (born August ...</td>\n",
       "      <td>None</td>\n",
       "      <td>0</td>\n",
       "      <td>GPT-wiki-intro</td>\n",
       "    </tr>\n",
       "    <tr>\n",
       "      <th>...</th>\n",
       "      <td>...</td>\n",
       "      <td>...</td>\n",
       "      <td>...</td>\n",
       "      <td>...</td>\n",
       "    </tr>\n",
       "    <tr>\n",
       "      <th>299995</th>\n",
       "      <td>Randy Borum is a Professor and Coordinator of ...</td>\n",
       "      <td>gpt4</td>\n",
       "      <td>1</td>\n",
       "      <td>GPT-wiki-intro</td>\n",
       "    </tr>\n",
       "    <tr>\n",
       "      <th>299996</th>\n",
       "      <td>Sa'och (, also, \"Sauch\") is an endangered, nuc...</td>\n",
       "      <td>gpt4</td>\n",
       "      <td>1</td>\n",
       "      <td>GPT-wiki-intro</td>\n",
       "    </tr>\n",
       "    <tr>\n",
       "      <th>299997</th>\n",
       "      <td>Philip C. Hanawalt (born 1931) is an American ...</td>\n",
       "      <td>gpt4</td>\n",
       "      <td>1</td>\n",
       "      <td>GPT-wiki-intro</td>\n",
       "    </tr>\n",
       "    <tr>\n",
       "      <th>299998</th>\n",
       "      <td>Vossius Gymnasium is a public gymnasium in the...</td>\n",
       "      <td>gpt4</td>\n",
       "      <td>1</td>\n",
       "      <td>GPT-wiki-intro</td>\n",
       "    </tr>\n",
       "    <tr>\n",
       "      <th>299999</th>\n",
       "      <td>Simone Stratigo (, Symeon Filippos Stratigos; ...</td>\n",
       "      <td>gpt4</td>\n",
       "      <td>1</td>\n",
       "      <td>GPT-wiki-intro</td>\n",
       "    </tr>\n",
       "  </tbody>\n",
       "</table>\n",
       "<p>300000 rows × 4 columns</p>\n",
       "</div>"
      ],
      "text/plain": [
       "                                                     text generator  \\\n",
       "0       Sexhow railway station was a railway station b...      None   \n",
       "1       In Finnish folklore, all places and things, an...      None   \n",
       "2       In mathematics, specifically differential calc...      None   \n",
       "3       is a Japanese shōjo manga series written and i...      None   \n",
       "4       Robert Milner \"Rob\" Bradley, Jr. (born August ...      None   \n",
       "...                                                   ...       ...   \n",
       "299995  Randy Borum is a Professor and Coordinator of ...      gpt4   \n",
       "299996  Sa'och (, also, \"Sauch\") is an endangered, nuc...      gpt4   \n",
       "299997  Philip C. Hanawalt (born 1931) is an American ...      gpt4   \n",
       "299998  Vossius Gymnasium is a public gymnasium in the...      gpt4   \n",
       "299999  Simone Stratigo (, Symeon Filippos Stratigos; ...      gpt4   \n",
       "\n",
       "        is_generated          source  \n",
       "0                  0  GPT-wiki-intro  \n",
       "1                  0  GPT-wiki-intro  \n",
       "2                  0  GPT-wiki-intro  \n",
       "3                  0  GPT-wiki-intro  \n",
       "4                  0  GPT-wiki-intro  \n",
       "...              ...             ...  \n",
       "299995             1  GPT-wiki-intro  \n",
       "299996             1  GPT-wiki-intro  \n",
       "299997             1  GPT-wiki-intro  \n",
       "299998             1  GPT-wiki-intro  \n",
       "299999             1  GPT-wiki-intro  \n",
       "\n",
       "[300000 rows x 4 columns]"
      ]
     },
     "execution_count": 18,
     "metadata": {},
     "output_type": "execute_result"
    }
   ],
   "source": [
    "df_wiki"
   ]
  },
  {
   "cell_type": "code",
   "execution_count": 19,
   "metadata": {},
   "outputs": [
    {
     "data": {
      "text/html": [
       "<div>\n",
       "<style scoped>\n",
       "    .dataframe tbody tr th:only-of-type {\n",
       "        vertical-align: middle;\n",
       "    }\n",
       "\n",
       "    .dataframe tbody tr th {\n",
       "        vertical-align: top;\n",
       "    }\n",
       "\n",
       "    .dataframe thead th {\n",
       "        text-align: right;\n",
       "    }\n",
       "</style>\n",
       "<table border=\"1\" class=\"dataframe\">\n",
       "  <thead>\n",
       "    <tr style=\"text-align: right;\">\n",
       "      <th></th>\n",
       "      <th>text</th>\n",
       "      <th>label</th>\n",
       "      <th>src</th>\n",
       "    </tr>\n",
       "  </thead>\n",
       "  <tbody>\n",
       "    <tr>\n",
       "      <th>0</th>\n",
       "      <td>White girls very rarely date Asian men. Even i...</td>\n",
       "      <td>1</td>\n",
       "      <td>cmv_human</td>\n",
       "    </tr>\n",
       "    <tr>\n",
       "      <th>1</th>\n",
       "      <td>I am a 23 year old male Indian American male. ...</td>\n",
       "      <td>1</td>\n",
       "      <td>cmv_human</td>\n",
       "    </tr>\n",
       "    <tr>\n",
       "      <th>2</th>\n",
       "      <td>Take three people, Persons A, B, and C. They l...</td>\n",
       "      <td>1</td>\n",
       "      <td>cmv_human</td>\n",
       "    </tr>\n",
       "    <tr>\n",
       "      <th>3</th>\n",
       "      <td>(A) Work part-time in high school; Then go to ...</td>\n",
       "      <td>1</td>\n",
       "      <td>cmv_human</td>\n",
       "    </tr>\n",
       "    <tr>\n",
       "      <th>4</th>\n",
       "      <td>When police introduce a new form of speed prev...</td>\n",
       "      <td>1</td>\n",
       "      <td>cmv_human</td>\n",
       "    </tr>\n",
       "  </tbody>\n",
       "</table>\n",
       "</div>"
      ],
      "text/plain": [
       "                                                text  label        src\n",
       "0  White girls very rarely date Asian men. Even i...      1  cmv_human\n",
       "1  I am a 23 year old male Indian American male. ...      1  cmv_human\n",
       "2  Take three people, Persons A, B, and C. They l...      1  cmv_human\n",
       "3  (A) Work part-time in high school; Then go to ...      1  cmv_human\n",
       "4  When police introduce a new form of speed prev...      1  cmv_human"
      ]
     },
     "execution_count": 19,
     "metadata": {},
     "output_type": "execute_result"
    }
   ],
   "source": [
    "df_deepfake.head()"
   ]
  },
  {
   "cell_type": "code",
   "execution_count": 20,
   "metadata": {},
   "outputs": [
    {
     "data": {
      "text/plain": [
       "0    281824\n",
       "1    150858\n",
       "Name: label, dtype: int64"
      ]
     },
     "execution_count": 20,
     "metadata": {},
     "output_type": "execute_result"
    }
   ],
   "source": [
    "df_deepfake['label'].value_counts()"
   ]
  },
  {
   "cell_type": "code",
   "execution_count": 21,
   "metadata": {},
   "outputs": [],
   "source": [
    "assert list(df_deepfake['src'].apply(lambda x: 'human' in x)) == list(df_deepfake['label'].apply(lambda x: x == 1))"
   ]
  },
  {
   "cell_type": "code",
   "execution_count": 22,
   "metadata": {},
   "outputs": [
    {
     "data": {
      "text/plain": [
       "xsum_machine_specified_gpt-3.5-trubo       1000\n",
       "roct_machine_specified_gpt-3.5-trubo       1000\n",
       "wp_machine_specified_gpt-3.5-trubo         1000\n",
       "wp_machine_topical_text-davinci-003        1000\n",
       "roct_machine_topical_text-davinci-002      1000\n",
       "xsum_machine_continuation_t0_3b            1000\n",
       "roct_machine_specified_text-davinci-003    1000\n",
       "wp_machine_specified_text-davinci-003      1000\n",
       "roct_machine_topical_gpt-3.5-trubo         1000\n",
       "xsum_machine_topical_gpt-3.5-trubo         1000\n",
       "Name: src, dtype: int64"
      ]
     },
     "execution_count": 22,
     "metadata": {},
     "output_type": "execute_result"
    }
   ],
   "source": [
    "df_deepfake[df_deepfake['label'] == 0]['src'].value_counts().head(10)"
   ]
  },
  {
   "cell_type": "markdown",
   "metadata": {},
   "source": [
    "trubo ))))"
   ]
  },
  {
   "cell_type": "code",
   "execution_count": 23,
   "metadata": {},
   "outputs": [
    {
     "data": {
      "text/html": [
       "<div>\n",
       "<style scoped>\n",
       "    .dataframe tbody tr th:only-of-type {\n",
       "        vertical-align: middle;\n",
       "    }\n",
       "\n",
       "    .dataframe tbody tr th {\n",
       "        vertical-align: top;\n",
       "    }\n",
       "\n",
       "    .dataframe thead th {\n",
       "        text-align: right;\n",
       "    }\n",
       "</style>\n",
       "<table border=\"1\" class=\"dataframe\">\n",
       "  <thead>\n",
       "    <tr style=\"text-align: right;\">\n",
       "      <th></th>\n",
       "      <th>text</th>\n",
       "      <th>is_generated</th>\n",
       "      <th>generator</th>\n",
       "      <th>source</th>\n",
       "    </tr>\n",
       "  </thead>\n",
       "  <tbody>\n",
       "    <tr>\n",
       "      <th>0</th>\n",
       "      <td>White girls very rarely date Asian men. Even i...</td>\n",
       "      <td>0</td>\n",
       "      <td>None</td>\n",
       "      <td>DeepfakeTextDetect</td>\n",
       "    </tr>\n",
       "    <tr>\n",
       "      <th>1</th>\n",
       "      <td>I am a 23 year old male Indian American male. ...</td>\n",
       "      <td>0</td>\n",
       "      <td>None</td>\n",
       "      <td>DeepfakeTextDetect</td>\n",
       "    </tr>\n",
       "    <tr>\n",
       "      <th>2</th>\n",
       "      <td>Take three people, Persons A, B, and C. They l...</td>\n",
       "      <td>0</td>\n",
       "      <td>None</td>\n",
       "      <td>DeepfakeTextDetect</td>\n",
       "    </tr>\n",
       "    <tr>\n",
       "      <th>3</th>\n",
       "      <td>(A) Work part-time in high school; Then go to ...</td>\n",
       "      <td>0</td>\n",
       "      <td>None</td>\n",
       "      <td>DeepfakeTextDetect</td>\n",
       "    </tr>\n",
       "    <tr>\n",
       "      <th>4</th>\n",
       "      <td>When police introduce a new form of speed prev...</td>\n",
       "      <td>0</td>\n",
       "      <td>None</td>\n",
       "      <td>DeepfakeTextDetect</td>\n",
       "    </tr>\n",
       "    <tr>\n",
       "      <th>...</th>\n",
       "      <td>...</td>\n",
       "      <td>...</td>\n",
       "      <td>...</td>\n",
       "      <td>...</td>\n",
       "    </tr>\n",
       "    <tr>\n",
       "      <th>432677</th>\n",
       "      <td>We consider the recovery of a source term f (x...</td>\n",
       "      <td>0</td>\n",
       "      <td>None</td>\n",
       "      <td>DeepfakeTextDetect</td>\n",
       "    </tr>\n",
       "    <tr>\n",
       "      <th>432678</th>\n",
       "      <td>Self-supervised learning (SlfSL), aiming at le...</td>\n",
       "      <td>0</td>\n",
       "      <td>None</td>\n",
       "      <td>DeepfakeTextDetect</td>\n",
       "    </tr>\n",
       "    <tr>\n",
       "      <th>432679</th>\n",
       "      <td>Recurrent neural networks (RNNs) have achieved...</td>\n",
       "      <td>0</td>\n",
       "      <td>None</td>\n",
       "      <td>DeepfakeTextDetect</td>\n",
       "    </tr>\n",
       "    <tr>\n",
       "      <th>432680</th>\n",
       "      <td>Deep reinforcement learning (DRL) is a booming...</td>\n",
       "      <td>0</td>\n",
       "      <td>None</td>\n",
       "      <td>DeepfakeTextDetect</td>\n",
       "    </tr>\n",
       "    <tr>\n",
       "      <th>432681</th>\n",
       "      <td>As part of Smart Cities initiatives, national,...</td>\n",
       "      <td>0</td>\n",
       "      <td>None</td>\n",
       "      <td>DeepfakeTextDetect</td>\n",
       "    </tr>\n",
       "  </tbody>\n",
       "</table>\n",
       "<p>432682 rows × 4 columns</p>\n",
       "</div>"
      ],
      "text/plain": [
       "                                                     text  is_generated  \\\n",
       "0       White girls very rarely date Asian men. Even i...             0   \n",
       "1       I am a 23 year old male Indian American male. ...             0   \n",
       "2       Take three people, Persons A, B, and C. They l...             0   \n",
       "3       (A) Work part-time in high school; Then go to ...             0   \n",
       "4       When police introduce a new form of speed prev...             0   \n",
       "...                                                   ...           ...   \n",
       "432677  We consider the recovery of a source term f (x...             0   \n",
       "432678  Self-supervised learning (SlfSL), aiming at le...             0   \n",
       "432679  Recurrent neural networks (RNNs) have achieved...             0   \n",
       "432680  Deep reinforcement learning (DRL) is a booming...             0   \n",
       "432681  As part of Smart Cities initiatives, national,...             0   \n",
       "\n",
       "       generator              source  \n",
       "0           None  DeepfakeTextDetect  \n",
       "1           None  DeepfakeTextDetect  \n",
       "2           None  DeepfakeTextDetect  \n",
       "3           None  DeepfakeTextDetect  \n",
       "4           None  DeepfakeTextDetect  \n",
       "...          ...                 ...  \n",
       "432677      None  DeepfakeTextDetect  \n",
       "432678      None  DeepfakeTextDetect  \n",
       "432679      None  DeepfakeTextDetect  \n",
       "432680      None  DeepfakeTextDetect  \n",
       "432681      None  DeepfakeTextDetect  \n",
       "\n",
       "[432682 rows x 4 columns]"
      ]
     },
     "execution_count": 23,
     "metadata": {},
     "output_type": "execute_result"
    }
   ],
   "source": [
    "df_deepfake['label'] = (~df_deepfake['label'].astype(bool)).astype(int)\n",
    "df_deepfake.rename(columns={'src': 'generator', 'label': 'is_generated'}, inplace=True)\n",
    "df_deepfake['generator'] = 'various'  # TODO: extract model name\n",
    "df_deepfake.loc[df_deepfake['is_generated'] == 0, 'generator'] = None\n",
    "df_deepfake['source'] = DataSource.deepfake.value\n",
    "df_deepfake"
   ]
  },
  {
   "cell_type": "code",
   "execution_count": 24,
   "metadata": {},
   "outputs": [
    {
     "data": {
      "text/plain": [
       "1    281824\n",
       "0    150858\n",
       "Name: is_generated, dtype: int64"
      ]
     },
     "execution_count": 24,
     "metadata": {},
     "output_type": "execute_result"
    }
   ],
   "source": [
    "df_deepfake['is_generated'].value_counts()"
   ]
  },
  {
   "cell_type": "code",
   "execution_count": 25,
   "metadata": {},
   "outputs": [
    {
     "data": {
      "text/html": [
       "<div>\n",
       "<style scoped>\n",
       "    .dataframe tbody tr th:only-of-type {\n",
       "        vertical-align: middle;\n",
       "    }\n",
       "\n",
       "    .dataframe tbody tr th {\n",
       "        vertical-align: top;\n",
       "    }\n",
       "\n",
       "    .dataframe thead th {\n",
       "        text-align: right;\n",
       "    }\n",
       "</style>\n",
       "<table border=\"1\" class=\"dataframe\">\n",
       "  <thead>\n",
       "    <tr style=\"text-align: right;\">\n",
       "      <th></th>\n",
       "      <th>text</th>\n",
       "      <th>generator</th>\n",
       "      <th>is_generated</th>\n",
       "      <th>source</th>\n",
       "    </tr>\n",
       "  </thead>\n",
       "  <tbody>\n",
       "    <tr>\n",
       "      <th>0</th>\n",
       "      <td>the scheme seeks to generate regular income th...</td>\n",
       "      <td>None</td>\n",
       "      <td>0</td>\n",
       "      <td>TuringBench</td>\n",
       "    </tr>\n",
       "    <tr>\n",
       "      <th>1</th>\n",
       "      <td>stated asset allocation . assets . min ( % ) m...</td>\n",
       "      <td>None</td>\n",
       "      <td>0</td>\n",
       "      <td>TuringBench</td>\n",
       "    </tr>\n",
       "    <tr>\n",
       "      <th>2</th>\n",
       "      <td>' fbi agent , the associated press reported mo...</td>\n",
       "      <td>gpt2_pytorch</td>\n",
       "      <td>1</td>\n",
       "      <td>TuringBench</td>\n",
       "    </tr>\n",
       "    <tr>\n",
       "      <th>3</th>\n",
       "      <td>' calls for an end to corruption in the countr...</td>\n",
       "      <td>gpt2_pytorch</td>\n",
       "      <td>1</td>\n",
       "      <td>TuringBench</td>\n",
       "    </tr>\n",
       "    <tr>\n",
       "      <th>4</th>\n",
       "      <td>burkini ? a wetsuit but there 's 'burk ' in it...</td>\n",
       "      <td>None</td>\n",
       "      <td>0</td>\n",
       "      <td>TuringBench</td>\n",
       "    </tr>\n",
       "    <tr>\n",
       "      <th>...</th>\n",
       "      <td>...</td>\n",
       "      <td>...</td>\n",
       "      <td>...</td>\n",
       "      <td>...</td>\n",
       "    </tr>\n",
       "    <tr>\n",
       "      <th>483249</th>\n",
       "      <td>'how can you tax gurgaon without basics in pla...</td>\n",
       "      <td>gpt2_small</td>\n",
       "      <td>1</td>\n",
       "      <td>TuringBench</td>\n",
       "    </tr>\n",
       "    <tr>\n",
       "      <th>483250</th>\n",
       "      <td>'canada military survey finds 960 victims of s...</td>\n",
       "      <td>gpt2_small</td>\n",
       "      <td>1</td>\n",
       "      <td>TuringBench</td>\n",
       "    </tr>\n",
       "    <tr>\n",
       "      <th>483253</th>\n",
       "      <td>'sundaram rural india fund regular direct-divi...</td>\n",
       "      <td>gpt2_small</td>\n",
       "      <td>1</td>\n",
       "      <td>TuringBench</td>\n",
       "    </tr>\n",
       "    <tr>\n",
       "      <th>483254</th>\n",
       "      <td>india seeks south korean investment in infra s...</td>\n",
       "      <td>gpt2_small</td>\n",
       "      <td>1</td>\n",
       "      <td>TuringBench</td>\n",
       "    </tr>\n",
       "    <tr>\n",
       "      <th>483255</th>\n",
       "      <td>'former vatican spox denies rumors that pope b...</td>\n",
       "      <td>gpt2_small</td>\n",
       "      <td>1</td>\n",
       "      <td>TuringBench</td>\n",
       "    </tr>\n",
       "  </tbody>\n",
       "</table>\n",
       "<p>203354 rows × 4 columns</p>\n",
       "</div>"
      ],
      "text/plain": [
       "                                                     text     generator  \\\n",
       "0       the scheme seeks to generate regular income th...          None   \n",
       "1       stated asset allocation . assets . min ( % ) m...          None   \n",
       "2       ' fbi agent , the associated press reported mo...  gpt2_pytorch   \n",
       "3       ' calls for an end to corruption in the countr...  gpt2_pytorch   \n",
       "4       burkini ? a wetsuit but there 's 'burk ' in it...          None   \n",
       "...                                                   ...           ...   \n",
       "483249  'how can you tax gurgaon without basics in pla...    gpt2_small   \n",
       "483250  'canada military survey finds 960 victims of s...    gpt2_small   \n",
       "483253  'sundaram rural india fund regular direct-divi...    gpt2_small   \n",
       "483254  india seeks south korean investment in infra s...    gpt2_small   \n",
       "483255  'former vatican spox denies rumors that pope b...    gpt2_small   \n",
       "\n",
       "        is_generated       source  \n",
       "0                  0  TuringBench  \n",
       "1                  0  TuringBench  \n",
       "2                  1  TuringBench  \n",
       "3                  1  TuringBench  \n",
       "4                  0  TuringBench  \n",
       "...              ...          ...  \n",
       "483249             1  TuringBench  \n",
       "483250             1  TuringBench  \n",
       "483253             1  TuringBench  \n",
       "483254             1  TuringBench  \n",
       "483255             1  TuringBench  \n",
       "\n",
       "[203354 rows x 4 columns]"
      ]
     },
     "execution_count": 25,
     "metadata": {},
     "output_type": "execute_result"
    }
   ],
   "source": [
    "df_turing.rename(columns={'label': 'generator', 'Generation': 'text'}, inplace=True)\n",
    "df_turing['is_generated'] = df_turing['generator'].apply(lambda x: x != 'human').astype(int)\n",
    "df_turing.loc[df_turing['is_generated'] == 0, 'generator'] = None\n",
    "df_turing['source'] = DataSource.turing.value\n",
    "df_turing"
   ]
  },
  {
   "cell_type": "code",
   "execution_count": 26,
   "metadata": {},
   "outputs": [
    {
     "data": {
      "text/html": [
       "<div>\n",
       "<style scoped>\n",
       "    .dataframe tbody tr th:only-of-type {\n",
       "        vertical-align: middle;\n",
       "    }\n",
       "\n",
       "    .dataframe tbody tr th {\n",
       "        vertical-align: top;\n",
       "    }\n",
       "\n",
       "    .dataframe thead th {\n",
       "        text-align: right;\n",
       "    }\n",
       "</style>\n",
       "<table border=\"1\" class=\"dataframe\">\n",
       "  <thead>\n",
       "    <tr style=\"text-align: right;\">\n",
       "      <th></th>\n",
       "      <th>text</th>\n",
       "      <th>generator</th>\n",
       "      <th>is_generated</th>\n",
       "      <th>source</th>\n",
       "    </tr>\n",
       "  </thead>\n",
       "  <tbody>\n",
       "    <tr>\n",
       "      <th>0</th>\n",
       "      <td>Sexhow railway station was a railway station b...</td>\n",
       "      <td>None</td>\n",
       "      <td>0</td>\n",
       "      <td>GPT-wiki-intro</td>\n",
       "    </tr>\n",
       "    <tr>\n",
       "      <th>1</th>\n",
       "      <td>In Finnish folklore, all places and things, an...</td>\n",
       "      <td>None</td>\n",
       "      <td>0</td>\n",
       "      <td>GPT-wiki-intro</td>\n",
       "    </tr>\n",
       "    <tr>\n",
       "      <th>2</th>\n",
       "      <td>In mathematics, specifically differential calc...</td>\n",
       "      <td>None</td>\n",
       "      <td>0</td>\n",
       "      <td>GPT-wiki-intro</td>\n",
       "    </tr>\n",
       "    <tr>\n",
       "      <th>3</th>\n",
       "      <td>is a Japanese shōjo manga series written and i...</td>\n",
       "      <td>None</td>\n",
       "      <td>0</td>\n",
       "      <td>GPT-wiki-intro</td>\n",
       "    </tr>\n",
       "    <tr>\n",
       "      <th>4</th>\n",
       "      <td>Robert Milner \"Rob\" Bradley, Jr. (born August ...</td>\n",
       "      <td>None</td>\n",
       "      <td>0</td>\n",
       "      <td>GPT-wiki-intro</td>\n",
       "    </tr>\n",
       "    <tr>\n",
       "      <th>...</th>\n",
       "      <td>...</td>\n",
       "      <td>...</td>\n",
       "      <td>...</td>\n",
       "      <td>...</td>\n",
       "    </tr>\n",
       "    <tr>\n",
       "      <th>936031</th>\n",
       "      <td>'how can you tax gurgaon without basics in pla...</td>\n",
       "      <td>gpt2_small</td>\n",
       "      <td>1</td>\n",
       "      <td>TuringBench</td>\n",
       "    </tr>\n",
       "    <tr>\n",
       "      <th>936032</th>\n",
       "      <td>'canada military survey finds 960 victims of s...</td>\n",
       "      <td>gpt2_small</td>\n",
       "      <td>1</td>\n",
       "      <td>TuringBench</td>\n",
       "    </tr>\n",
       "    <tr>\n",
       "      <th>936033</th>\n",
       "      <td>'sundaram rural india fund regular direct-divi...</td>\n",
       "      <td>gpt2_small</td>\n",
       "      <td>1</td>\n",
       "      <td>TuringBench</td>\n",
       "    </tr>\n",
       "    <tr>\n",
       "      <th>936034</th>\n",
       "      <td>india seeks south korean investment in infra s...</td>\n",
       "      <td>gpt2_small</td>\n",
       "      <td>1</td>\n",
       "      <td>TuringBench</td>\n",
       "    </tr>\n",
       "    <tr>\n",
       "      <th>936035</th>\n",
       "      <td>'former vatican spox denies rumors that pope b...</td>\n",
       "      <td>gpt2_small</td>\n",
       "      <td>1</td>\n",
       "      <td>TuringBench</td>\n",
       "    </tr>\n",
       "  </tbody>\n",
       "</table>\n",
       "<p>936036 rows × 4 columns</p>\n",
       "</div>"
      ],
      "text/plain": [
       "                                                     text   generator  \\\n",
       "0       Sexhow railway station was a railway station b...        None   \n",
       "1       In Finnish folklore, all places and things, an...        None   \n",
       "2       In mathematics, specifically differential calc...        None   \n",
       "3       is a Japanese shōjo manga series written and i...        None   \n",
       "4       Robert Milner \"Rob\" Bradley, Jr. (born August ...        None   \n",
       "...                                                   ...         ...   \n",
       "936031  'how can you tax gurgaon without basics in pla...  gpt2_small   \n",
       "936032  'canada military survey finds 960 victims of s...  gpt2_small   \n",
       "936033  'sundaram rural india fund regular direct-divi...  gpt2_small   \n",
       "936034  india seeks south korean investment in infra s...  gpt2_small   \n",
       "936035  'former vatican spox denies rumors that pope b...  gpt2_small   \n",
       "\n",
       "        is_generated          source  \n",
       "0                  0  GPT-wiki-intro  \n",
       "1                  0  GPT-wiki-intro  \n",
       "2                  0  GPT-wiki-intro  \n",
       "3                  0  GPT-wiki-intro  \n",
       "4                  0  GPT-wiki-intro  \n",
       "...              ...             ...  \n",
       "936031             1     TuringBench  \n",
       "936032             1     TuringBench  \n",
       "936033             1     TuringBench  \n",
       "936034             1     TuringBench  \n",
       "936035             1     TuringBench  \n",
       "\n",
       "[936036 rows x 4 columns]"
      ]
     },
     "execution_count": 26,
     "metadata": {},
     "output_type": "execute_result"
    }
   ],
   "source": [
    "data = pd.concat([df_wiki, df_deepfake, df_turing], ignore_index=True)\n",
    "data"
   ]
  },
  {
   "cell_type": "code",
   "execution_count": 27,
   "metadata": {},
   "outputs": [
    {
     "data": {
      "text/plain": [
       "1    625720\n",
       "0    310316\n",
       "Name: is_generated, dtype: int64"
      ]
     },
     "execution_count": 27,
     "metadata": {},
     "output_type": "execute_result"
    }
   ],
   "source": [
    "data['is_generated'].value_counts()"
   ]
  },
  {
   "cell_type": "code",
   "execution_count": 28,
   "metadata": {},
   "outputs": [],
   "source": [
    "data.to_parquet('mgt_dataset.parquet')"
   ]
  },
  {
   "cell_type": "markdown",
   "metadata": {},
   "source": [
    "# Small EDA"
   ]
  },
  {
   "cell_type": "code",
   "execution_count": 34,
   "metadata": {},
   "outputs": [],
   "source": [
    "data['tokens'] = data['text'].apply(word_tokenize)"
   ]
  },
  {
   "cell_type": "code",
   "execution_count": 35,
   "metadata": {},
   "outputs": [],
   "source": [
    "data['len_tokens'] = data['tokens'].apply(len)"
   ]
  },
  {
   "cell_type": "code",
   "execution_count": 36,
   "metadata": {},
   "outputs": [
    {
     "data": {
      "text/html": [
       "<div>\n",
       "<style scoped>\n",
       "    .dataframe tbody tr th:only-of-type {\n",
       "        vertical-align: middle;\n",
       "    }\n",
       "\n",
       "    .dataframe tbody tr th {\n",
       "        vertical-align: top;\n",
       "    }\n",
       "\n",
       "    .dataframe thead th {\n",
       "        text-align: right;\n",
       "    }\n",
       "</style>\n",
       "<table border=\"1\" class=\"dataframe\">\n",
       "  <thead>\n",
       "    <tr style=\"text-align: right;\">\n",
       "      <th></th>\n",
       "      <th>text</th>\n",
       "      <th>generator</th>\n",
       "      <th>is_generated</th>\n",
       "      <th>source</th>\n",
       "      <th>tokens</th>\n",
       "      <th>len_tokens</th>\n",
       "    </tr>\n",
       "  </thead>\n",
       "  <tbody>\n",
       "    <tr>\n",
       "      <th>0</th>\n",
       "      <td>Sexhow railway station was a railway station b...</td>\n",
       "      <td>None</td>\n",
       "      <td>0</td>\n",
       "      <td>GPT-wiki-intro</td>\n",
       "      <td>[Sexhow, railway, station, was, a, railway, st...</td>\n",
       "      <td>188</td>\n",
       "    </tr>\n",
       "    <tr>\n",
       "      <th>1</th>\n",
       "      <td>In Finnish folklore, all places and things, an...</td>\n",
       "      <td>None</td>\n",
       "      <td>0</td>\n",
       "      <td>GPT-wiki-intro</td>\n",
       "      <td>[In, Finnish, folklore, ,, all, places, and, t...</td>\n",
       "      <td>222</td>\n",
       "    </tr>\n",
       "    <tr>\n",
       "      <th>2</th>\n",
       "      <td>In mathematics, specifically differential calc...</td>\n",
       "      <td>None</td>\n",
       "      <td>0</td>\n",
       "      <td>GPT-wiki-intro</td>\n",
       "      <td>[In, mathematics, ,, specifically, differentia...</td>\n",
       "      <td>184</td>\n",
       "    </tr>\n",
       "    <tr>\n",
       "      <th>3</th>\n",
       "      <td>is a Japanese shōjo manga series written and i...</td>\n",
       "      <td>None</td>\n",
       "      <td>0</td>\n",
       "      <td>GPT-wiki-intro</td>\n",
       "      <td>[is, a, Japanese, shōjo, manga, series, writte...</td>\n",
       "      <td>372</td>\n",
       "    </tr>\n",
       "    <tr>\n",
       "      <th>4</th>\n",
       "      <td>Robert Milner \"Rob\" Bradley, Jr. (born August ...</td>\n",
       "      <td>None</td>\n",
       "      <td>0</td>\n",
       "      <td>GPT-wiki-intro</td>\n",
       "      <td>[Robert, Milner, ``, Rob, '', Bradley, ,, Jr.,...</td>\n",
       "      <td>198</td>\n",
       "    </tr>\n",
       "  </tbody>\n",
       "</table>\n",
       "</div>"
      ],
      "text/plain": [
       "                                                text generator  is_generated  \\\n",
       "0  Sexhow railway station was a railway station b...      None             0   \n",
       "1  In Finnish folklore, all places and things, an...      None             0   \n",
       "2  In mathematics, specifically differential calc...      None             0   \n",
       "3  is a Japanese shōjo manga series written and i...      None             0   \n",
       "4  Robert Milner \"Rob\" Bradley, Jr. (born August ...      None             0   \n",
       "\n",
       "           source                                             tokens  \\\n",
       "0  GPT-wiki-intro  [Sexhow, railway, station, was, a, railway, st...   \n",
       "1  GPT-wiki-intro  [In, Finnish, folklore, ,, all, places, and, t...   \n",
       "2  GPT-wiki-intro  [In, mathematics, ,, specifically, differentia...   \n",
       "3  GPT-wiki-intro  [is, a, Japanese, shōjo, manga, series, writte...   \n",
       "4  GPT-wiki-intro  [Robert, Milner, ``, Rob, '', Bradley, ,, Jr.,...   \n",
       "\n",
       "   len_tokens  \n",
       "0         188  \n",
       "1         222  \n",
       "2         184  \n",
       "3         372  \n",
       "4         198  "
      ]
     },
     "execution_count": 36,
     "metadata": {},
     "output_type": "execute_result"
    }
   ],
   "source": [
    "data.head()"
   ]
  },
  {
   "cell_type": "code",
   "execution_count": 41,
   "metadata": {},
   "outputs": [],
   "source": [
    "data.to_parquet('mgt_dataset_tokenized.parquet')"
   ]
  },
  {
   "cell_type": "code",
   "execution_count": 40,
   "metadata": {},
   "outputs": [
    {
     "data": {
      "image/png": "[encoded data removed]",
      "text/plain": [
       "<Figure size 1200x600 with 1 Axes>"
      ]
     },
     "metadata": {
      "needs_background": "light"
     },
     "output_type": "display_data"
    }
   ],
   "source": [
    "fig = plt.figure(figsize=(12, 6), dpi=100)\n",
    "sns.histplot(data=data, x='len_tokens', hue='is_generated', bins=100, multiple='stack', log_scale=True).set(title='Documents length distribution', xlabel='Tokens count');"
   ]
  },
  {
   "cell_type": "code",
   "execution_count": null,
   "metadata": {},
   "outputs": [],
   "source": []
  }
 ],
 "metadata": {
  "kernelspec": {
   "display_name": "venv",
   "language": "python",
   "name": "python3"
  },
  "language_info": {
   "codemirror_mode": {
    "name": "ipython",
    "version": 3
   },
   "file_extension": ".py",
   "mimetype": "text/x-python",
   "name": "python",
   "nbconvert_exporter": "python",
   "pygments_lexer": "ipython3",
   "version": "3.8.10"
  }
 },
 "nbformat": 4,
 "nbformat_minor": 4
}
